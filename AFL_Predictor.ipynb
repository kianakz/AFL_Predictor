{
 "cells": [
  {
   "cell_type": "code",
   "execution_count": 248,
   "metadata": {},
   "outputs": [],
   "source": [
    "# Import the relevent packages\n",
    "import pandas as pd\n",
    "import numpy as np\n",
    "import datetime as dt\n",
    "from sklearn.linear_model import LogisticRegression\n",
    "from sklearn import metrics"
   ]
  },
  {
   "cell_type": "code",
   "execution_count": 258,
   "metadata": {},
   "outputs": [],
   "source": [
    "raw_data = pd.read_csv(\"RawData.csv\")\n",
    "raw_data['Date'] = pd.to_datetime(raw_data['Date']) # Modify the 'Date' column to 'datetime' format to be able to select years"
   ]
  },
  {
   "cell_type": "code",
   "execution_count": 259,
   "metadata": {},
   "outputs": [],
   "source": [
    "# Split the sets. I used 2013 for cross validation. 2014 and 2015 for training set \n",
    "training_set = raw_data[raw_data['Date'].dt.year.isin(range(2014, 2016))]\n",
    "cross_val_set = raw_data[raw_data['Date'].dt.year == 2013] \n",
    "test_set = raw_data[raw_data['Date'].dt.year.isin(range(2016, 2020))]"
   ]
  },
  {
   "cell_type": "code",
   "execution_count": 260,
   "metadata": {},
   "outputs": [],
   "source": [
    "# Pre-process the training set\n",
    "# Date and the name of the player are irrelevent to the Brownlow votes, and slowed down the performance, so I removed them. \n",
    "\n",
    "training_set = training_set.drop(\"Date\", axis = 1)\n",
    "training_set = training_set.drop(\"Name\", axis = 1)\n",
    "training_set = pd.get_dummies(training_set) # Convert categorical variables to indicators \n",
    "\n",
    "x_train = training_set.drop(\"Brownlow Votes\",axis = 1) # Initialise the input parameters\n",
    "y_train = training_set[\"Brownlow Votes\"] # Initialise the target parameter\n",
    "\n",
    "# Pre-process the cross validation set\n",
    "cross_val_set = cross_val_set.drop(\"Date\", axis = 1)\n",
    "cross_val_set = cross_val_set.drop(\"Name\", axis = 1)\n",
    "cross_val_set = pd.get_dummies(cross_val_set) # Convert categorical variables to indicators \n",
    "x_cross_val =  cross_val_set.drop(\"Brownlow Votes\",axis = 1) # Initialise the input parameters\n",
    "y_cross_val = cross_val_set[\"Brownlow Votes\"] # Initialise the target parameter\n",
    "y_pred = log_reg.predict(x_cross_val) \n",
    "\n",
    "# Pre-process the test data set\n",
    "test_set = test_set.drop(\"Date\", axis = 1)\n",
    "test_set = test_set.drop(\"Name\", axis = 1)\n",
    "test_set = pd.get_dummies(test_set) # Convert categorical variables to indicators \n",
    "x_test =  test_set.drop(\"Brownlow Votes\",axis = 1) # Initialise the input parameters\n",
    "y_test = test_set[\"Brownlow Votes\"] # Initialise the target parameter\n",
    "y_pred_test = log_reg.predict(x_test_set) \n"
   ]
  },
  {
   "cell_type": "code",
   "execution_count": 261,
   "metadata": {},
   "outputs": [
    {
     "data": {
      "text/plain": [
       "LogisticRegression(max_iter=5000, solver='sag')"
      ]
     },
     "execution_count": 261,
     "metadata": {},
     "output_type": "execute_result"
    }
   ],
   "source": [
    "# Logistic Regression\n",
    "log_reg = LogisticRegression(solver='sag', max_iter = 5000)\n",
    "log_reg.fit(x_train, y_train) # fit the parameters in to the model"
   ]
  },
  {
   "cell_type": "code",
   "execution_count": 262,
   "metadata": {},
   "outputs": [
    {
     "name": "stdout",
     "output_type": "stream",
     "text": [
      "This model is 94.01% accurate\n"
     ]
    }
   ],
   "source": [
    "# Test the accuracy of the model using the cross validation set \n",
    "print(\"This model is {:.2f}% accurate\".format(metrics.accuracy_score(y_cross_val, y_pred)*100.0))\n"
   ]
  },
  {
   "cell_type": "code",
   "execution_count": 304,
   "metadata": {},
   "outputs": [
    {
     "name": "stdout",
     "output_type": "stream",
     "text": [
      "This model is 94.18% accurate\n",
      "The predicted winners of 2019 season are:\n"
     ]
    },
    {
     "data": {
      "text/html": [
       "<div>\n",
       "<style scoped>\n",
       "    .dataframe tbody tr th:only-of-type {\n",
       "        vertical-align: middle;\n",
       "    }\n",
       "\n",
       "    .dataframe tbody tr th {\n",
       "        vertical-align: top;\n",
       "    }\n",
       "\n",
       "    .dataframe thead th {\n",
       "        text-align: right;\n",
       "    }\n",
       "</style>\n",
       "<table border=\"1\" class=\"dataframe\">\n",
       "  <thead>\n",
       "    <tr style=\"text-align: right;\">\n",
       "      <th></th>\n",
       "      <th>Name</th>\n",
       "      <th>Total Brownlow</th>\n",
       "    </tr>\n",
       "  </thead>\n",
       "  <tbody>\n",
       "    <tr>\n",
       "      <th>82</th>\n",
       "      <td>Brodie Grundy</td>\n",
       "      <td>27.0</td>\n",
       "    </tr>\n",
       "    <tr>\n",
       "      <th>493</th>\n",
       "      <td>Patrick Dangerfield</td>\n",
       "      <td>24.0</td>\n",
       "    </tr>\n",
       "    <tr>\n",
       "      <th>178</th>\n",
       "      <td>Dustin Martin</td>\n",
       "      <td>21.0</td>\n",
       "    </tr>\n",
       "  </tbody>\n",
       "</table>\n",
       "</div>"
      ],
      "text/plain": [
       "                    Name  Total Brownlow\n",
       "82         Brodie Grundy            27.0\n",
       "493  Patrick Dangerfield            24.0\n",
       "178        Dustin Martin            21.0"
      ]
     },
     "execution_count": 304,
     "metadata": {},
     "output_type": "execute_result"
    }
   ],
   "source": [
    "# Predict on the test set\n",
    "# Test the accuracy of the model\n",
    "print(\"This model is {:.2f}% accurate\".format(metrics.accuracy_score(y_test, y_pred_test)*100.0))\n",
    "\n",
    "# Example: predict the winner of Brownlow medal for 2019 season\n",
    "test_set_updated = raw_data[raw_data['Date'].dt.year.isin(range(2016, 2020))] # re-read the test set to include Name and Date\n",
    "test_set_updated.insert(1,'Predicted Brownlow', y_pred_test) # add the predictions to the data\n",
    "test_2019 = test_set_updated[test_set_updated['Date'].dt.year == 2019] # extract 2019 data \n",
    "res = test_2019.groupby('Name')['Predicted Brownlow'].sum().to_frame(name = 'Total Brownlow').reset_index() # group by players name to calculate the sum of brownlow in the whole season\n",
    "\n",
    "print(\"The predicted winners of 2019 season are:\")\n",
    "res.nlargest(3, 'Total Brownlow')"
   ]
  },
  {
   "cell_type": "code",
   "execution_count": null,
   "metadata": {},
   "outputs": [],
   "source": []
  }
 ],
 "metadata": {
  "kernelspec": {
   "display_name": "Python 3",
   "language": "python",
   "name": "python3"
  },
  "language_info": {
   "codemirror_mode": {
    "name": "ipython",
    "version": 3
   },
   "file_extension": ".py",
   "mimetype": "text/x-python",
   "name": "python",
   "nbconvert_exporter": "python",
   "pygments_lexer": "ipython3",
   "version": "3.8.3"
  }
 },
 "nbformat": 4,
 "nbformat_minor": 4
}
