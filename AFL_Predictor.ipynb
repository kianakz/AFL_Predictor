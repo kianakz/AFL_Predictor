{
 "cells": [
  {
   "cell_type": "code",
   "execution_count": 219,
   "metadata": {},
   "outputs": [],
   "source": [
    "# Import the relevent packages\n",
    "import pandas as pd\n",
    "import numpy as np\n",
    "import datetime as dt\n",
    "from sklearn.linear_model import LogisticRegression\n",
    "from sklearn import metrics"
   ]
  },
  {
   "cell_type": "code",
   "execution_count": 220,
   "metadata": {},
   "outputs": [],
   "source": [
    "raw_data = pd.read_csv(\"RawData.csv\")\n",
    "raw_data['Date'] = pd.to_datetime(raw_data['Date']) # Modify the 'Date' column to 'datetime' format to be able to select years"
   ]
  },
  {
   "cell_type": "code",
   "execution_count": 221,
   "metadata": {},
   "outputs": [],
   "source": [
    "# Splitting the sets. I used 2013 for cross validation. 2014 and 2015 for training set \n",
    "training_set = raw_data[raw_data['Date'].dt.year.isin(range(2014, 2016))]\n",
    "cross_val_set = raw_data[raw_data['Date'].dt.year == 2013] \n",
    "test_set = raw_data[raw_data['Date'].dt.year.isin(range(2016, 2020))]"
   ]
  },
  {
   "cell_type": "code",
   "execution_count": 222,
   "metadata": {},
   "outputs": [
    {
     "data": {
      "text/plain": [
       "LogisticRegression(max_iter=5000, solver='sag')"
      ]
     },
     "execution_count": 222,
     "metadata": {},
     "output_type": "execute_result"
    }
   ],
   "source": [
    "# Logistic Regression\n",
    "log_reg = LogisticRegression(solver='sag', max_iter = 5000)\n",
    "\n",
    "# Pre-processing the training set\n",
    "# Date and the name of the player are irrelevent to the Brownlow votes, thus they should be removed. \n",
    "# The other reason for removing them was that it slowed down the code and it didn't worth including them. \n",
    "training_set = training_set.drop(\"Date\", axis = 1)\n",
    "training_set = training_set.drop(\"Name\", axis = 1)\n",
    "training_set = pd.get_dummies(training_set) # Convert categorical variables to indicators \n",
    "\n",
    "x_train = training_set.drop(\"Brownlow Votes\",axis = 1) # Initialising the input parameters\n",
    "y_train = training_set[\"Brownlow Votes\"] # Initialising the target parameter\n",
    "log_reg.fit(x_train, y_train) # fit the parameters to the model"
   ]
  },
  {
   "cell_type": "code",
   "execution_count": 223,
   "metadata": {},
   "outputs": [
    {
     "name": "stdout",
     "output_type": "stream",
     "text": [
      "0.9400527009222661\n"
     ]
    }
   ],
   "source": [
    "# Pre-processing the cross validation set\n",
    "cross_val_set = cross_val_set.drop(\"Date\", axis = 1)\n",
    "cross_val_set = cross_val_set.drop(\"Name\", axis = 1)\n",
    "cross_val_set = pd.get_dummies(cross_val_set) # Convert categorical variables to indicators \n",
    "x_cross_val =  cross_val_set.drop(\"Brownlow Votes\",axis = 1)\n",
    "y_cross_val = cross_val_set[\"Brownlow Votes\"]\n",
    "y_pred =log_reg.predict(x_cross_val)\n",
    "print(metrics.accuracy_score(y_cross_val, y_pred))\n"
   ]
  },
  {
   "cell_type": "code",
   "execution_count": null,
   "metadata": {},
   "outputs": [],
   "source": []
  },
  {
   "cell_type": "code",
   "execution_count": null,
   "metadata": {},
   "outputs": [],
   "source": []
  }
 ],
 "metadata": {
  "kernelspec": {
   "display_name": "Python 3",
   "language": "python",
   "name": "python3"
  },
  "language_info": {
   "codemirror_mode": {
    "name": "ipython",
    "version": 3
   },
   "file_extension": ".py",
   "mimetype": "text/x-python",
   "name": "python",
   "nbconvert_exporter": "python",
   "pygments_lexer": "ipython3",
   "version": "3.8.3"
  }
 },
 "nbformat": 4,
 "nbformat_minor": 4
}
